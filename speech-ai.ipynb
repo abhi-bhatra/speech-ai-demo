{
 "cells": [
  {
   "cell_type": "code",
   "execution_count": 9,
   "id": "1a27a738-89e0-4335-8180-c910163c645d",
   "metadata": {},
   "outputs": [],
   "source": [
    "import os\n",
    "import azure.cognitiveservices.speech as speechsdk\n",
    "from openai import AzureOpenAI"
   ]
  },
  {
   "cell_type": "code",
   "execution_count": 2,
   "id": "f57d8d46-8eb4-4763-b019-bff1f2fb4a3d",
   "metadata": {},
   "outputs": [],
   "source": [
    "def recognize_from_microphone():\n",
    "    # This example requires environment variables named \"SPEECH_KEY\" and \"SPEECH_REGION\"\n",
    "    speech_config = speechsdk.SpeechConfig(subscription='25eaf0696e92414c861deb4b362c2719', region='eastus')\n",
    "    speech_config.speech_recognition_language=\"en-US\"\n",
    "\n",
    "    audio_config = speechsdk.audio.AudioConfig(use_default_microphone=True)\n",
    "    speech_recognizer = speechsdk.SpeechRecognizer(speech_config=speech_config, audio_config=audio_config)\n",
    "\n",
    "    print(\"Speak into your microphone.\")\n",
    "    speech_recognition_result = speech_recognizer.recognize_once_async().get()\n",
    "\n",
    "    recognized_text = None\n",
    "\n",
    "    if speech_recognition_result.reason == speechsdk.ResultReason.RecognizedSpeech:\n",
    "        recognized_text = speech_recognition_result.text\n",
    "        print(\"Recognized: {}\".format(recognized_text))\n",
    "    elif speech_recognition_result.reason == speechsdk.ResultReason.NoMatch:\n",
    "        print(\"No speech could be recognized: {}\".format(speech_recognition_result.no_match_details))\n",
    "    elif speech_recognition_result.reason == speechsdk.ResultReason.Canceled:\n",
    "        cancellation_details = speech_recognition_result.cancellation_details\n",
    "        print(\"Speech Recognition canceled: {}\".format(cancellation_details.reason))\n",
    "        if cancellation_details.reason == speechsdk.CancellationReason.Error:\n",
    "            print(\"Error details: {}\".format(cancellation_details.error_details))\n",
    "            print(\"Did you set the speech resource key and region values?\")\n",
    "    return recognized_text"
   ]
  },
  {
   "cell_type": "code",
   "execution_count": 6,
   "id": "8aa4d364-3745-43e7-942c-96e7dd85e2db",
   "metadata": {},
   "outputs": [
    {
     "name": "stdout",
     "output_type": "stream",
     "text": [
      "Speak into your microphone.\n",
      "Recognized: Hello, I am delighted to be invited into AI and Innovation Summit which is organized at Microsoft Gurgaon.\n"
     ]
    }
   ],
   "source": [
    "text_prompt = recognize_from_microphone()"
   ]
  },
  {
   "cell_type": "code",
   "execution_count": null,
   "id": "3cd5511d-b13a-4008-bde6-8bfb7cd82665",
   "metadata": {},
   "outputs": [],
   "source": []
  },
  {
   "cell_type": "code",
   "execution_count": 10,
   "id": "6e5bc931-edc2-493c-aa9d-b859cf52e54e",
   "metadata": {},
   "outputs": [],
   "source": [
    "def gpt_response(prompt_text):\n",
    "    client = AzureOpenAI(\n",
    "        api_key=\"a93bcfa38a6c48a0985a605093c17f49\",\n",
    "        api_version=\"2024-02-01\",\n",
    "        azure_endpoint=\"https://demo-ai-summit-openai.openai.azure.com/\"\n",
    "    )\n",
    "    deployment_name = 'openai-deployment'  # Custom name for GPT-3.5 deployment\n",
    "    \n",
    "    print(f\"Sending your prompt to GPT-3: {prompt_text}\")\n",
    "    response = client.completions.create(model=deployment_name, prompt=prompt_text, max_tokens=100)\n",
    "    \n",
    "    # Extract only the text from the response\n",
    "    gpt_reply = response.choices[0].text.strip()\n",
    "    \n",
    "    print(f\"GPT-3 Response: {gpt_reply}\")\n",
    "    return gpt_reply"
   ]
  },
  {
   "cell_type": "code",
   "execution_count": 11,
   "id": "f8bdce9b-afcf-4ed8-b825-7d9e162a1d3d",
   "metadata": {},
   "outputs": [
    {
     "name": "stdout",
     "output_type": "stream",
     "text": [
      "Sending your prompt to GPT-3: What do you know about collaboration between Microsoft and OpenAI ?\n",
      "GPT-3 Response: Microsoft and OpenAI have a long-standing collaboration that was first announced in 2016. The collaboration focuses on combining Microsoft's advanced cloud computing capabilities with OpenAI's research in artificial intelligence (AI). This partnership has produced several breakthroughs in AI research, including the development of cutting-edge technologies such as deep learning and reinforcement learning.\n",
      "\n",
      "One of the main goals of the collaboration is to democratize AI and make it accessible to a wider audience. To achieve this, Microsoft and OpenAI have released tools\n"
     ]
    },
    {
     "data": {
      "text/plain": [
       "\"Microsoft and OpenAI have a long-standing collaboration that was first announced in 2016. The collaboration focuses on combining Microsoft's advanced cloud computing capabilities with OpenAI's research in artificial intelligence (AI). This partnership has produced several breakthroughs in AI research, including the development of cutting-edge technologies such as deep learning and reinforcement learning.\\n\\nOne of the main goals of the collaboration is to democratize AI and make it accessible to a wider audience. To achieve this, Microsoft and OpenAI have released tools\""
      ]
     },
     "execution_count": 11,
     "metadata": {},
     "output_type": "execute_result"
    }
   ],
   "source": [
    "gpt_response('What do you know about collaboration between Microsoft and OpenAI ?')"
   ]
  },
  {
   "cell_type": "code",
   "execution_count": null,
   "id": "f7f099f7-fcb7-4837-9f30-6395b1a2ea34",
   "metadata": {},
   "outputs": [],
   "source": []
  },
  {
   "cell_type": "code",
   "execution_count": 12,
   "id": "a3d434da-9b4d-4ccf-9b7a-4ee471b0438f",
   "metadata": {},
   "outputs": [],
   "source": [
    "def synthesize_speech(text):\n",
    "    speech_config = speechsdk.SpeechConfig(subscription='25eaf0696e92414c861deb4b362c2719', region='eastus')\n",
    "    audio_config = speechsdk.audio.AudioOutputConfig(use_default_speaker=True)\n",
    "    speech_config.speech_synthesis_voice_name = 'en-US-AvaMultilingualNeural'\n",
    "    \n",
    "    speech_synthesizer = speechsdk.SpeechSynthesizer(speech_config=speech_config, audio_config=audio_config)\n",
    "    \n",
    "    speech_synthesis_result = speech_synthesizer.speak_text_async(text).get()\n",
    "    \n",
    "    if speech_synthesis_result.reason == speechsdk.ResultReason.SynthesizingAudioCompleted:\n",
    "        print(\"Speech synthesized for text [{}]\".format(text))\n",
    "    elif speech_synthesis_result.reason == speechsdk.ResultReason.Canceled:\n",
    "        cancellation_details = speech_synthesis_result.cancellation_details\n",
    "        print(\"Speech synthesis canceled: {}\".format(cancellation_details.reason))\n",
    "        if cancellation_details.reason == speechsdk.CancellationReason.Error:\n",
    "            if cancellation_details.error_details:\n",
    "                print(\"Error details: {}\".format(cancellation_details.error_details))\n",
    "                print(\"Did you set the speech resource key and region values?\")"
   ]
  },
  {
   "cell_type": "code",
   "execution_count": 13,
   "id": "66353550-5904-464e-ad31-9f2e73e284a1",
   "metadata": {},
   "outputs": [
    {
     "name": "stdout",
     "output_type": "stream",
     "text": [
      "Speech synthesized for text [Hello, I am delighted to be invited into AI and Innovation Summit which is organized at Microsoft Gurgaon.]\n"
     ]
    }
   ],
   "source": [
    "synthesize_speech(\"Hello, I am delighted to be invited into AI and Innovation Summit which is organized at Microsoft Gurgaon.\")"
   ]
  },
  {
   "cell_type": "code",
   "execution_count": null,
   "id": "5d42701f-234b-4e15-82e3-a85a79fb62bb",
   "metadata": {},
   "outputs": [],
   "source": []
  }
 ],
 "metadata": {
  "kernelspec": {
   "display_name": "Python (ai-summit)",
   "language": "python",
   "name": "ai-env"
  },
  "language_info": {
   "codemirror_mode": {
    "name": "ipython",
    "version": 3
   },
   "file_extension": ".py",
   "mimetype": "text/x-python",
   "name": "python",
   "nbconvert_exporter": "python",
   "pygments_lexer": "ipython3",
   "version": "3.12.4"
  }
 },
 "nbformat": 4,
 "nbformat_minor": 5
}
